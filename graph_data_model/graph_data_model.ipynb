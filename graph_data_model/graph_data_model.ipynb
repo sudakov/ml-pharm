{
 "cells": [
  {
   "cell_type": "markdown",
   "id": "7e1d1964",
   "metadata": {},
   "source": [
    "## Импорты"
   ]
  },
  {
   "cell_type": "code",
   "execution_count": 2,
   "id": "739f31a2",
   "metadata": {},
   "outputs": [],
   "source": [
    "import pandas as pd"
   ]
  },
  {
   "cell_type": "code",
   "execution_count": 11,
   "id": "c4cbb789",
   "metadata": {},
   "outputs": [],
   "source": [
    "from pyvis.network import Network"
   ]
  },
  {
   "cell_type": "markdown",
   "id": "4cc20c5b",
   "metadata": {},
   "source": [
    "## Загрузка данных"
   ]
  },
  {
   "cell_type": "markdown",
   "id": "6e43f120",
   "metadata": {},
   "source": [
    "Данные взяты с сайта https://drugcentral.org/\n",
    "\n",
    "Данные в виде Postgres базы данных, из которой вручную достаются нужные данные в агрегированном виде"
   ]
  },
  {
   "cell_type": "code",
   "execution_count": 156,
   "id": "a1ea1389",
   "metadata": {},
   "outputs": [
    {
     "data": {
      "text/html": [
       "<div>\n",
       "<style scoped>\n",
       "    .dataframe tbody tr th:only-of-type {\n",
       "        vertical-align: middle;\n",
       "    }\n",
       "\n",
       "    .dataframe tbody tr th {\n",
       "        vertical-align: top;\n",
       "    }\n",
       "\n",
       "    .dataframe thead th {\n",
       "        text-align: right;\n",
       "    }\n",
       "</style>\n",
       "<table border=\"1\" class=\"dataframe\">\n",
       "  <thead>\n",
       "    <tr style=\"text-align: right;\">\n",
       "      <th></th>\n",
       "      <th>name</th>\n",
       "      <th>class_id</th>\n",
       "    </tr>\n",
       "  </thead>\n",
       "  <tbody>\n",
       "    <tr>\n",
       "      <th>9</th>\n",
       "      <td>abacavir</td>\n",
       "      <td>7737.0</td>\n",
       "    </tr>\n",
       "    <tr>\n",
       "      <th>29</th>\n",
       "      <td>acefylline</td>\n",
       "      <td>7737.0</td>\n",
       "    </tr>\n",
       "    <tr>\n",
       "      <th>107</th>\n",
       "      <td>agalsidase alfa</td>\n",
       "      <td>7737.0</td>\n",
       "    </tr>\n",
       "    <tr>\n",
       "      <th>115</th>\n",
       "      <td>alacepril</td>\n",
       "      <td>7737.0</td>\n",
       "    </tr>\n",
       "    <tr>\n",
       "      <th>155</th>\n",
       "      <td>alizapride</td>\n",
       "      <td>7737.0</td>\n",
       "    </tr>\n",
       "    <tr>\n",
       "      <th>...</th>\n",
       "      <td>...</td>\n",
       "      <td>...</td>\n",
       "    </tr>\n",
       "    <tr>\n",
       "      <th>5207</th>\n",
       "      <td>thiocolchicoside</td>\n",
       "      <td>7737.0</td>\n",
       "    </tr>\n",
       "    <tr>\n",
       "      <th>5231</th>\n",
       "      <td>tiadenol</td>\n",
       "      <td>7737.0</td>\n",
       "    </tr>\n",
       "    <tr>\n",
       "      <th>5279</th>\n",
       "      <td>tinofedrine</td>\n",
       "      <td>7737.0</td>\n",
       "    </tr>\n",
       "    <tr>\n",
       "      <th>5409</th>\n",
       "      <td>triclofos</td>\n",
       "      <td>7737.0</td>\n",
       "    </tr>\n",
       "    <tr>\n",
       "      <th>5651</th>\n",
       "      <td>zaltoprofen</td>\n",
       "      <td>7737.0</td>\n",
       "    </tr>\n",
       "  </tbody>\n",
       "</table>\n",
       "<p>90 rows × 2 columns</p>\n",
       "</div>"
      ],
      "text/plain": [
       "                  name  class_id\n",
       "9             abacavir    7737.0\n",
       "29          acefylline    7737.0\n",
       "107    agalsidase alfa    7737.0\n",
       "115          alacepril    7737.0\n",
       "155         alizapride    7737.0\n",
       "...                ...       ...\n",
       "5207  thiocolchicoside    7737.0\n",
       "5231          tiadenol    7737.0\n",
       "5279       tinofedrine    7737.0\n",
       "5409         triclofos    7737.0\n",
       "5651       zaltoprofen    7737.0\n",
       "\n",
       "[90 rows x 2 columns]"
      ]
     },
     "execution_count": 156,
     "metadata": {},
     "output_type": "execute_result"
    }
   ],
   "source": [
    "drugs[drugs['class_id'] == 7737.0]"
   ]
  },
  {
   "cell_type": "code",
   "execution_count": 157,
   "id": "951e10d1",
   "metadata": {},
   "outputs": [
    {
     "data": {
      "text/html": [
       "<div>\n",
       "<style scoped>\n",
       "    .dataframe tbody tr th:only-of-type {\n",
       "        vertical-align: middle;\n",
       "    }\n",
       "\n",
       "    .dataframe tbody tr th {\n",
       "        vertical-align: top;\n",
       "    }\n",
       "\n",
       "    .dataframe thead th {\n",
       "        text-align: right;\n",
       "    }\n",
       "</style>\n",
       "<table border=\"1\" class=\"dataframe\">\n",
       "  <thead>\n",
       "    <tr style=\"text-align: right;\">\n",
       "      <th></th>\n",
       "      <th>name</th>\n",
       "      <th>class_id</th>\n",
       "    </tr>\n",
       "  </thead>\n",
       "  <tbody>\n",
       "    <tr>\n",
       "      <th>39</th>\n",
       "      <td>acetaminosalol</td>\n",
       "      <td>7754.0</td>\n",
       "    </tr>\n",
       "    <tr>\n",
       "      <th>40</th>\n",
       "      <td>acetaminosalol</td>\n",
       "      <td>5387.0</td>\n",
       "    </tr>\n",
       "    <tr>\n",
       "      <th>41</th>\n",
       "      <td>acetaminosalol</td>\n",
       "      <td>7720.0</td>\n",
       "    </tr>\n",
       "    <tr>\n",
       "      <th>42</th>\n",
       "      <td>acetaminosalol</td>\n",
       "      <td>7712.0</td>\n",
       "    </tr>\n",
       "    <tr>\n",
       "      <th>43</th>\n",
       "      <td>acetaminosalol</td>\n",
       "      <td>7747.0</td>\n",
       "    </tr>\n",
       "    <tr>\n",
       "      <th>...</th>\n",
       "      <td>...</td>\n",
       "      <td>...</td>\n",
       "    </tr>\n",
       "    <tr>\n",
       "      <th>5660</th>\n",
       "      <td>zimeldine</td>\n",
       "      <td>7710.0</td>\n",
       "    </tr>\n",
       "    <tr>\n",
       "      <th>5661</th>\n",
       "      <td>zimeldine</td>\n",
       "      <td>7711.0</td>\n",
       "    </tr>\n",
       "    <tr>\n",
       "      <th>5662</th>\n",
       "      <td>zimeldine</td>\n",
       "      <td>7736.0</td>\n",
       "    </tr>\n",
       "    <tr>\n",
       "      <th>5663</th>\n",
       "      <td>zimeldine</td>\n",
       "      <td>7709.0</td>\n",
       "    </tr>\n",
       "    <tr>\n",
       "      <th>5664</th>\n",
       "      <td>zimeldine</td>\n",
       "      <td>6611.0</td>\n",
       "    </tr>\n",
       "  </tbody>\n",
       "</table>\n",
       "<p>414 rows × 2 columns</p>\n",
       "</div>"
      ],
      "text/plain": [
       "                name  class_id\n",
       "39    acetaminosalol    7754.0\n",
       "40    acetaminosalol    5387.0\n",
       "41    acetaminosalol    7720.0\n",
       "42    acetaminosalol    7712.0\n",
       "43    acetaminosalol    7747.0\n",
       "...              ...       ...\n",
       "5660       zimeldine    7710.0\n",
       "5661       zimeldine    7711.0\n",
       "5662       zimeldine    7736.0\n",
       "5663       zimeldine    7709.0\n",
       "5664       zimeldine    6611.0\n",
       "\n",
       "[414 rows x 2 columns]"
      ]
     },
     "execution_count": 157,
     "metadata": {},
     "output_type": "execute_result"
    }
   ],
   "source": [
    "counts = drugs['name'].value_counts()\n",
    "class_ids_with_more_than_3_counts = counts[counts > 3].index.tolist()\n",
    "result = drugs[drugs['name'].isin(class_ids_with_more_than_3_counts)]\n",
    "result"
   ]
  },
  {
   "cell_type": "code",
   "execution_count": 4,
   "id": "a2d342e4",
   "metadata": {},
   "outputs": [
    {
     "data": {
      "text/html": [
       "<div>\n",
       "<style scoped>\n",
       "    .dataframe tbody tr th:only-of-type {\n",
       "        vertical-align: middle;\n",
       "    }\n",
       "\n",
       "    .dataframe tbody tr th {\n",
       "        vertical-align: top;\n",
       "    }\n",
       "\n",
       "    .dataframe thead th {\n",
       "        text-align: right;\n",
       "    }\n",
       "</style>\n",
       "<table border=\"1\" class=\"dataframe\">\n",
       "  <thead>\n",
       "    <tr style=\"text-align: right;\">\n",
       "      <th></th>\n",
       "      <th>name</th>\n",
       "      <th>class_id</th>\n",
       "    </tr>\n",
       "  </thead>\n",
       "  <tbody>\n",
       "    <tr>\n",
       "      <th>0</th>\n",
       "      <td>(2-benzhydryloxyethyl)diethyl-methylammonium i...</td>\n",
       "      <td>5323.0</td>\n",
       "    </tr>\n",
       "    <tr>\n",
       "      <th>1</th>\n",
       "      <td>(S)-nicardipine</td>\n",
       "      <td>NaN</td>\n",
       "    </tr>\n",
       "    <tr>\n",
       "      <th>2</th>\n",
       "      <td>(S)-nitrendipine</td>\n",
       "      <td>5454.0</td>\n",
       "    </tr>\n",
       "    <tr>\n",
       "      <th>3</th>\n",
       "      <td>1-Octacosanol</td>\n",
       "      <td>7362.0</td>\n",
       "    </tr>\n",
       "    <tr>\n",
       "      <th>4</th>\n",
       "      <td>2-(4-chlorphenoxy)-ethanol</td>\n",
       "      <td>NaN</td>\n",
       "    </tr>\n",
       "  </tbody>\n",
       "</table>\n",
       "</div>"
      ],
      "text/plain": [
       "                                                name  class_id\n",
       "0  (2-benzhydryloxyethyl)diethyl-methylammonium i...    5323.0\n",
       "1                                    (S)-nicardipine       NaN\n",
       "2                                   (S)-nitrendipine    5454.0\n",
       "3                                      1-Octacosanol    7362.0\n",
       "4                         2-(4-chlorphenoxy)-ethanol       NaN"
      ]
     },
     "execution_count": 4,
     "metadata": {},
     "output_type": "execute_result"
    }
   ],
   "source": [
    "drugs = pd.read_csv('./drugs_groups.csv')\n",
    "drugs.head()"
   ]
  },
  {
   "cell_type": "code",
   "execution_count": 5,
   "id": "fdf4be83",
   "metadata": {},
   "outputs": [
    {
     "data": {
      "text/html": [
       "<div>\n",
       "<style scoped>\n",
       "    .dataframe tbody tr th:only-of-type {\n",
       "        vertical-align: middle;\n",
       "    }\n",
       "\n",
       "    .dataframe tbody tr th {\n",
       "        vertical-align: top;\n",
       "    }\n",
       "\n",
       "    .dataframe thead th {\n",
       "        text-align: right;\n",
       "    }\n",
       "</style>\n",
       "<table border=\"1\" class=\"dataframe\">\n",
       "  <thead>\n",
       "    <tr style=\"text-align: right;\">\n",
       "      <th></th>\n",
       "      <th>class_name1</th>\n",
       "      <th>class_id1</th>\n",
       "      <th>class_name2</th>\n",
       "      <th>class_id2</th>\n",
       "      <th>ddi_risk</th>\n",
       "      <th>description</th>\n",
       "    </tr>\n",
       "  </thead>\n",
       "  <tbody>\n",
       "    <tr>\n",
       "      <th>0</th>\n",
       "      <td>Monoamine Oxidase Inhibitors</td>\n",
       "      <td>7740</td>\n",
       "      <td>Alpha/Beta Agonists</td>\n",
       "      <td>7741</td>\n",
       "      <td>Potentially significant</td>\n",
       "      <td>MAO Inhibitors may enhance the hypertensive ef...</td>\n",
       "    </tr>\n",
       "    <tr>\n",
       "      <th>1</th>\n",
       "      <td>Monoamine Oxidase Inhibitors</td>\n",
       "      <td>7740</td>\n",
       "      <td>Amphetamines</td>\n",
       "      <td>7742</td>\n",
       "      <td>Potentially significant</td>\n",
       "      <td>MAO Inhibitors may enhance the hypertensive ef...</td>\n",
       "    </tr>\n",
       "    <tr>\n",
       "      <th>2</th>\n",
       "      <td>Alpha/Beta Agonists</td>\n",
       "      <td>7741</td>\n",
       "      <td>Inhalational Anesthetics</td>\n",
       "      <td>7743</td>\n",
       "      <td>Potentially significant</td>\n",
       "      <td>Inhalational Anesthetics may enhance the arrhy...</td>\n",
       "    </tr>\n",
       "    <tr>\n",
       "      <th>3</th>\n",
       "      <td>Monoamine Oxidase Inhibitors</td>\n",
       "      <td>7740</td>\n",
       "      <td>buspirone</td>\n",
       "      <td>6131</td>\n",
       "      <td>Potentially significant</td>\n",
       "      <td>May increase blood pressure</td>\n",
       "    </tr>\n",
       "    <tr>\n",
       "      <th>4</th>\n",
       "      <td>Monoamine Oxidase Inhibitors</td>\n",
       "      <td>7740</td>\n",
       "      <td>dextromethorphan</td>\n",
       "      <td>4933</td>\n",
       "      <td>Contraindicated</td>\n",
       "      <td>fatal/non-fatal reactions</td>\n",
       "    </tr>\n",
       "  </tbody>\n",
       "</table>\n",
       "</div>"
      ],
      "text/plain": [
       "                    class_name1  class_id1               class_name2  \\\n",
       "0  Monoamine Oxidase Inhibitors       7740       Alpha/Beta Agonists   \n",
       "1  Monoamine Oxidase Inhibitors       7740              Amphetamines   \n",
       "2           Alpha/Beta Agonists       7741  Inhalational Anesthetics   \n",
       "3  Monoamine Oxidase Inhibitors       7740                 buspirone   \n",
       "4  Monoamine Oxidase Inhibitors       7740          dextromethorphan   \n",
       "\n",
       "   class_id2                 ddi_risk  \\\n",
       "0       7741  Potentially significant   \n",
       "1       7742  Potentially significant   \n",
       "2       7743  Potentially significant   \n",
       "3       6131  Potentially significant   \n",
       "4       4933          Contraindicated   \n",
       "\n",
       "                                         description  \n",
       "0  MAO Inhibitors may enhance the hypertensive ef...  \n",
       "1  MAO Inhibitors may enhance the hypertensive ef...  \n",
       "2  Inhalational Anesthetics may enhance the arrhy...  \n",
       "3                        May increase blood pressure  \n",
       "4                          fatal/non-fatal reactions  "
      ]
     },
     "execution_count": 5,
     "metadata": {},
     "output_type": "execute_result"
    }
   ],
   "source": [
    "groups = pd.read_csv('./drugs_groups_compability.csv')\n",
    "groups.head() "
   ]
  },
  {
   "cell_type": "code",
   "execution_count": 10,
   "id": "4896ffd8",
   "metadata": {},
   "outputs": [
    {
     "name": "stdout",
     "output_type": "stream",
     "text": [
      "['Potentially significant' 'Contraindicated' 'Avoid combination'\n",
      " 'Significant' 'Critical']\n"
     ]
    }
   ],
   "source": [
    "print(groups.ddi_risk.unique())"
   ]
  },
  {
   "cell_type": "markdown",
   "id": "c305e9e8",
   "metadata": {},
   "source": [
    "## Создание графовой модели"
   ]
  },
  {
   "cell_type": "code",
   "execution_count": 182,
   "id": "84edabfe",
   "metadata": {},
   "outputs": [],
   "source": [
    "main_drug = 'maltose' # 'acetaminosalol' - большой граф"
   ]
  },
  {
   "cell_type": "code",
   "execution_count": 183,
   "id": "e6d79cc5",
   "metadata": {
    "scrolled": true
   },
   "outputs": [
    {
     "name": "stdout",
     "output_type": "stream",
     "text": [
      "Warning: When  cdn_resources is 'local' jupyter notebook has issues displaying graphics on chrome/safari. Use cdn_resources='in_line' or cdn_resources='remote' if you have issues viewing graphics in a notebook.\n"
     ]
    }
   ],
   "source": [
    "net = Network(\n",
    "    notebook=True,\n",
    "    height=\"750px\", \n",
    "    width=\"100%\", \n",
    "    bgcolor=\"#222222\", \n",
    "    font_color=\"white\"\n",
    ")\n",
    "net.add_node(main_drug, color='#d9ce34', size=10)"
   ]
  },
  {
   "cell_type": "code",
   "execution_count": 184,
   "id": "15ffb037",
   "metadata": {},
   "outputs": [],
   "source": [
    "main_classes = drugs[drugs.name == main_drug]\n",
    "main_classes_list = list(main_classes.class_id)\n",
    "\n",
    "related_classes_set = set()\n",
    "\n",
    "if not(classes_id == []):\n",
    "    for r in groups[groups.class_id1.isin(main_classes_list)].iterrows():\n",
    "        # добавляем класс центрального препарата\n",
    "        net.add_node(r[1][1], label=r[1][0], color='#9e0909', size=15)\n",
    "                \n",
    "        # добавляем связь препарата с классом\n",
    "        net.add_edge(main_drug, r[1][1], color='#f5f74f', width=3)\n",
    "        \n",
    "        # добавляем связанный класс\n",
    "        related_classes_set.add(r[1][3])\n",
    "        net.add_node(r[1][3], label=r[1][2], color='#d94343', size=15)\n",
    "        \n",
    "        # добавляем связь между классами\n",
    "        net.add_edge(r[1][1], r[1][3], label=r[1][5], color='#12a4de', width=5)\n",
    "        \n",
    "    for r in groups[groups.class_id2.isin(main_classes_list)].iterrows():\n",
    "        # добавляем класс центрального препарата\n",
    "        net.add_node(r[1][3], label=r[1][2], color='#9e0909', size=15)\n",
    "                \n",
    "        # добавляем связь препарата с классом\n",
    "        net.add_edge(main_drug, r[1][3], color='#f5f74f', width=3)\n",
    "        \n",
    "        # добавляем связанный класс\n",
    "        related_classes_set.add(r[1][1])\n",
    "        net.add_node(r[1][1], label=r[1][0], color='#d94343', size=15)\n",
    "        \n",
    "        # добавляем связь между классами\n",
    "        net.add_edge(r[1][1], r[1][3], label=r[1][5], color='#12a4de', width=5)\n",
    "        \n",
    "    for cls in related_classes_set:\n",
    "        for drug in list(drugs[drugs.class_id == cls].name):\n",
    "            # добавляем ноду препарата\n",
    "            net.add_node(drug, color='#0aa123', size=10)\n",
    "\n",
    "            # добавляем связь препарата с классом\n",
    "            net.add_edge(drug, cls, color='#3cf06f', width=2)"
   ]
  },
  {
   "cell_type": "code",
   "execution_count": 185,
   "id": "e40e9f47",
   "metadata": {},
   "outputs": [],
   "source": [
    "# ## рисует полный граф, полный граф очень лагает\n",
    "\n",
    "\n",
    "# for index, row in groups.iterrows():\n",
    "    \n",
    "#     net.add_node(row['class_id1'], label=row['class_name1'], color='#FF4136', size=30)\n",
    "#     net.add_node(row['class_id2'], label=row['class_name2'], color='#FF4136', size=30)\n",
    "    \n",
    "#     net.add_edge(row['class_id1'], row['class_id2'], label=row['ddi_risk'], color='#0074D9', width=5)\n",
    "\n",
    "\n",
    "# for index, row in drugs.iterrows():\n",
    "#     if row['class_id'] is not None:\n",
    "        \n",
    "#         if row['class_id'] in groups['class_id1'].tolist() or row['class_id'] in groups['class_id2'].tolist():\n",
    "            \n",
    "#             net.add_node(index, label=row['name'], color='#2ECC40', size=15)\n",
    "#             net.add_edge(row['class_id'], index, color='#2ECC40', width=1)\n",
    "#         else:\n",
    "            \n",
    "#             net.add_node(index, label=row['name'], color='#2ECC40', size=15)\n",
    "\n"
   ]
  },
  {
   "cell_type": "code",
   "execution_count": null,
   "id": "2810d7f1",
   "metadata": {},
   "outputs": [],
   "source": []
  },
  {
   "cell_type": "code",
   "execution_count": 186,
   "id": "365c780a",
   "metadata": {
    "scrolled": false
   },
   "outputs": [
    {
     "name": "stdout",
     "output_type": "stream",
     "text": [
      "my_graph.html\n"
     ]
    },
    {
     "data": {
      "text/html": [
       "\n",
       "        <iframe\n",
       "            width=\"100%\"\n",
       "            height=\"750px\"\n",
       "            src=\"my_graph.html\"\n",
       "            frameborder=\"0\"\n",
       "            allowfullscreen\n",
       "            \n",
       "        ></iframe>\n",
       "        "
      ],
      "text/plain": [
       "<IPython.lib.display.IFrame at 0x139fea182b0>"
      ]
     },
     "execution_count": 186,
     "metadata": {},
     "output_type": "execute_result"
    }
   ],
   "source": [
    "# net.toggle_physics(False) # рисует быстрее, но граф не очень красивый\n",
    "net.set_options(\"\"\"\n",
    "const options = {\n",
    "  \"physics\": {\n",
    "    \"barnesHut\": {\n",
    "      \"gravitationalConstant\": -10000\n",
    "    },\n",
    "    \"minVelocity\": 0.75\n",
    "  }\n",
    "}\n",
    "\"\"\")\n",
    "net.show('my_graph.html')"
   ]
  },
  {
   "cell_type": "code",
   "execution_count": null,
   "id": "f4863f33",
   "metadata": {},
   "outputs": [],
   "source": []
  }
 ],
 "metadata": {
  "kernelspec": {
   "display_name": "Python 3 (ipykernel)",
   "language": "python",
   "name": "python3"
  },
  "language_info": {
   "codemirror_mode": {
    "name": "ipython",
    "version": 3
   },
   "file_extension": ".py",
   "mimetype": "text/x-python",
   "name": "python",
   "nbconvert_exporter": "python",
   "pygments_lexer": "ipython3",
   "version": "3.9.9"
  }
 },
 "nbformat": 4,
 "nbformat_minor": 5
}
