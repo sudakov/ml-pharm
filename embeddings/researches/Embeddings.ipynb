{
  "cells": [
    {
      "cell_type": "code",
      "execution_count": 37,
      "metadata": {
        "colab": {
          "base_uri": "https://localhost:8080/"
        },
        "id": "MxfMnVfeM_7Q",
        "outputId": "7ba5b22a-2557-4b8d-e147-ffb50edc769f"
      },
      "outputs": [
        {
          "output_type": "stream",
          "name": "stdout",
          "text": [
            "Archive:  ex/drugs_dirty.csv.zip\n",
            "replace drugs_dirty.csv? [y]es, [n]o, [A]ll, [N]one, [r]ename: y\n",
            "  inflating: drugs_dirty.csv         \n"
          ]
        }
      ],
      "source": [
        "!unzip data/drugs_dirty.csv.zip"
      ]
    },
    {
      "cell_type": "code",
      "execution_count": 2,
      "metadata": {
        "id": "cJzgWtbzsWem",
        "colab": {
          "base_uri": "https://localhost:8080/"
        },
        "outputId": "744601df-3f92-4af1-bf2b-daf146523a68"
      },
      "outputs": [
        {
          "output_type": "stream",
          "name": "stdout",
          "text": [
            "Looking in indexes: https://pypi.org/simple, https://us-python.pkg.dev/colab-wheels/public/simple/\n",
            "Requirement already satisfied: gensim in /usr/local/lib/python3.10/dist-packages (4.3.1)\n",
            "Requirement already satisfied: numpy>=1.18.5 in /usr/local/lib/python3.10/dist-packages (from gensim) (1.22.4)\n",
            "Requirement already satisfied: scipy>=1.7.0 in /usr/local/lib/python3.10/dist-packages (from gensim) (1.10.1)\n",
            "Requirement already satisfied: smart-open>=1.8.1 in /usr/local/lib/python3.10/dist-packages (from gensim) (6.3.0)\n"
          ]
        }
      ],
      "source": [
        "!pip install --upgrade gensim"
      ]
    },
    {
      "cell_type": "code",
      "execution_count": 3,
      "metadata": {
        "id": "3viS7C9J1gLq",
        "colab": {
          "base_uri": "https://localhost:8080/"
        },
        "outputId": "904695fb-6072-4c02-d287-506d3d5454a8"
      },
      "outputs": [
        {
          "output_type": "stream",
          "name": "stdout",
          "text": [
            "Looking in indexes: https://pypi.org/simple, https://us-python.pkg.dev/colab-wheels/public/simple/\n",
            "Collecting optuna\n",
            "  Downloading optuna-3.1.1-py3-none-any.whl (365 kB)\n",
            "\u001b[2K     \u001b[90m━━━━━━━━━━━━━━━━━━━━━━━━━━━━━━━━━━━━━━━\u001b[0m \u001b[32m365.7/365.7 kB\u001b[0m \u001b[31m7.8 MB/s\u001b[0m eta \u001b[36m0:00:00\u001b[0m\n",
            "\u001b[?25hCollecting alembic>=1.5.0\n",
            "  Downloading alembic-1.10.4-py3-none-any.whl (212 kB)\n",
            "\u001b[2K     \u001b[90m━━━━━━━━━━━━━━━━━━━━━━━━━━━━━━━━━━━━━━\u001b[0m \u001b[32m212.9/212.9 kB\u001b[0m \u001b[31m22.8 MB/s\u001b[0m eta \u001b[36m0:00:00\u001b[0m\n",
            "\u001b[?25hRequirement already satisfied: tqdm in /usr/local/lib/python3.10/dist-packages (from optuna) (4.65.0)\n",
            "Collecting cmaes>=0.9.1\n",
            "  Downloading cmaes-0.9.1-py3-none-any.whl (21 kB)\n",
            "Collecting colorlog\n",
            "  Downloading colorlog-6.7.0-py2.py3-none-any.whl (11 kB)\n",
            "Requirement already satisfied: PyYAML in /usr/local/lib/python3.10/dist-packages (from optuna) (6.0)\n",
            "Requirement already satisfied: packaging>=20.0 in /usr/local/lib/python3.10/dist-packages (from optuna) (23.1)\n",
            "Requirement already satisfied: sqlalchemy>=1.3.0 in /usr/local/lib/python3.10/dist-packages (from optuna) (2.0.10)\n",
            "Requirement already satisfied: numpy in /usr/local/lib/python3.10/dist-packages (from optuna) (1.22.4)\n",
            "Requirement already satisfied: typing-extensions>=4 in /usr/local/lib/python3.10/dist-packages (from alembic>=1.5.0->optuna) (4.5.0)\n",
            "Collecting Mako\n",
            "  Downloading Mako-1.2.4-py3-none-any.whl (78 kB)\n",
            "\u001b[2K     \u001b[90m━━━━━━━━━━━━━━━━━━━━━━━━━━━━━━━━━━━━━━━━\u001b[0m \u001b[32m78.7/78.7 kB\u001b[0m \u001b[31m9.5 MB/s\u001b[0m eta \u001b[36m0:00:00\u001b[0m\n",
            "\u001b[?25hRequirement already satisfied: greenlet!=0.4.17 in /usr/local/lib/python3.10/dist-packages (from sqlalchemy>=1.3.0->optuna) (2.0.2)\n",
            "Requirement already satisfied: MarkupSafe>=0.9.2 in /usr/local/lib/python3.10/dist-packages (from Mako->alembic>=1.5.0->optuna) (2.1.2)\n",
            "Installing collected packages: Mako, colorlog, cmaes, alembic, optuna\n",
            "Successfully installed Mako-1.2.4 alembic-1.10.4 cmaes-0.9.1 colorlog-6.7.0 optuna-3.1.1\n"
          ]
        }
      ],
      "source": [
        "!pip install optuna"
      ]
    },
    {
      "cell_type": "code",
      "execution_count": 4,
      "metadata": {
        "id": "-9zcYtn9XEmV"
      },
      "outputs": [],
      "source": [
        "import re\n",
        "import numpy as np\n",
        "from gensim.models import Word2Vec\n",
        "import nltk\n",
        "from nltk.corpus import stopwords\n",
        "from nltk.stem import WordNetLemmatizer\n",
        "from tqdm import tqdm\n",
        "import pandas as pd\n",
        "import optuna"
      ]
    },
    {
      "cell_type": "code",
      "execution_count": 5,
      "metadata": {
        "colab": {
          "base_uri": "https://localhost:8080/"
        },
        "id": "gWNpzInxyXwa",
        "outputId": "5c3aa3c7-350a-4db9-d5d9-8fa816e28ac1"
      },
      "outputs": [
        {
          "output_type": "stream",
          "name": "stderr",
          "text": [
            "[nltk_data] Downloading package punkt to /root/nltk_data...\n",
            "[nltk_data]   Unzipping tokenizers/punkt.zip.\n"
          ]
        },
        {
          "output_type": "execute_result",
          "data": {
            "text/plain": [
              "True"
            ]
          },
          "metadata": {},
          "execution_count": 5
        }
      ],
      "source": [
        "nltk.download('punkt')"
      ]
    },
    {
      "cell_type": "code",
      "execution_count": 6,
      "metadata": {
        "id": "5kq0AYDb2LlN"
      },
      "outputs": [],
      "source": [
        "df = pd.read_csv('/content/drugs_dirty.csv')"
      ]
    },
    {
      "cell_type": "code",
      "execution_count": 7,
      "metadata": {
        "colab": {
          "base_uri": "https://localhost:8080/",
          "height": 419
        },
        "id": "7c-FMp123t-Y",
        "outputId": "cc6b105c-9769-445b-d60a-c1de059b9fb1"
      },
      "outputs": [
        {
          "output_type": "execute_result",
          "data": {
            "text/plain": [
              "      Unnamed: 0                                         name  \\\n",
              "0              0                                     Abacavir   \n",
              "1              0              Abacavir and Lamivudine Tablets   \n",
              "2              0                       Abacavir Oral Solution   \n",
              "3              0                     Abacavir Sulfate Tablets   \n",
              "4              0  Abacavir, Lamivudine and Zidovudine Tablets   \n",
              "...          ...                                          ...   \n",
              "7927           0                             Zyrtec-D 12 Hour   \n",
              "7928           0                                       Zytiga   \n",
              "7929           0                                       Zyvana   \n",
              "7930           0                                        Zyvox   \n",
              "7931           0                              Zyvox Injection   \n",
              "\n",
              "                                                   text  \n",
              "0     Treatment of HIV-1 infection in adults, adoles...  \n",
              "1     Screen for the HLA-B*5701 allele prior to init...  \n",
              "2     Screen for the HLA-B*5701 allele prior to init...  \n",
              "3     Screen for the HLA-B*5701 allele prior to init...  \n",
              "4     Limitations of Use: \\nLimited data exist on th...  \n",
              "...                                                 ...  \n",
              "7927  \\ntemporarily relieves these symptoms due to h...  \n",
              "7928  \\nMetastatic castration-resistant prostate can...  \n",
              "7929  Zyvana is an orally administered prescription ...  \n",
              "7930  Nosocomial pneumonia caused by Staphylococcus ...  \n",
              "7931  ZYVOX is indicated for the treatment of commun...  \n",
              "\n",
              "[7932 rows x 3 columns]"
            ],
            "text/html": [
              "\n",
              "  <div id=\"df-163d77e8-7b47-4b3f-83f6-a4eeff51d99c\">\n",
              "    <div class=\"colab-df-container\">\n",
              "      <div>\n",
              "<style scoped>\n",
              "    .dataframe tbody tr th:only-of-type {\n",
              "        vertical-align: middle;\n",
              "    }\n",
              "\n",
              "    .dataframe tbody tr th {\n",
              "        vertical-align: top;\n",
              "    }\n",
              "\n",
              "    .dataframe thead th {\n",
              "        text-align: right;\n",
              "    }\n",
              "</style>\n",
              "<table border=\"1\" class=\"dataframe\">\n",
              "  <thead>\n",
              "    <tr style=\"text-align: right;\">\n",
              "      <th></th>\n",
              "      <th>Unnamed: 0</th>\n",
              "      <th>name</th>\n",
              "      <th>text</th>\n",
              "    </tr>\n",
              "  </thead>\n",
              "  <tbody>\n",
              "    <tr>\n",
              "      <th>0</th>\n",
              "      <td>0</td>\n",
              "      <td>Abacavir</td>\n",
              "      <td>Treatment of HIV-1 infection in adults, adoles...</td>\n",
              "    </tr>\n",
              "    <tr>\n",
              "      <th>1</th>\n",
              "      <td>0</td>\n",
              "      <td>Abacavir and Lamivudine Tablets</td>\n",
              "      <td>Screen for the HLA-B*5701 allele prior to init...</td>\n",
              "    </tr>\n",
              "    <tr>\n",
              "      <th>2</th>\n",
              "      <td>0</td>\n",
              "      <td>Abacavir Oral Solution</td>\n",
              "      <td>Screen for the HLA-B*5701 allele prior to init...</td>\n",
              "    </tr>\n",
              "    <tr>\n",
              "      <th>3</th>\n",
              "      <td>0</td>\n",
              "      <td>Abacavir Sulfate Tablets</td>\n",
              "      <td>Screen for the HLA-B*5701 allele prior to init...</td>\n",
              "    </tr>\n",
              "    <tr>\n",
              "      <th>4</th>\n",
              "      <td>0</td>\n",
              "      <td>Abacavir, Lamivudine and Zidovudine Tablets</td>\n",
              "      <td>Limitations of Use: \\nLimited data exist on th...</td>\n",
              "    </tr>\n",
              "    <tr>\n",
              "      <th>...</th>\n",
              "      <td>...</td>\n",
              "      <td>...</td>\n",
              "      <td>...</td>\n",
              "    </tr>\n",
              "    <tr>\n",
              "      <th>7927</th>\n",
              "      <td>0</td>\n",
              "      <td>Zyrtec-D 12 Hour</td>\n",
              "      <td>\\ntemporarily relieves these symptoms due to h...</td>\n",
              "    </tr>\n",
              "    <tr>\n",
              "      <th>7928</th>\n",
              "      <td>0</td>\n",
              "      <td>Zytiga</td>\n",
              "      <td>\\nMetastatic castration-resistant prostate can...</td>\n",
              "    </tr>\n",
              "    <tr>\n",
              "      <th>7929</th>\n",
              "      <td>0</td>\n",
              "      <td>Zyvana</td>\n",
              "      <td>Zyvana is an orally administered prescription ...</td>\n",
              "    </tr>\n",
              "    <tr>\n",
              "      <th>7930</th>\n",
              "      <td>0</td>\n",
              "      <td>Zyvox</td>\n",
              "      <td>Nosocomial pneumonia caused by Staphylococcus ...</td>\n",
              "    </tr>\n",
              "    <tr>\n",
              "      <th>7931</th>\n",
              "      <td>0</td>\n",
              "      <td>Zyvox Injection</td>\n",
              "      <td>ZYVOX is indicated for the treatment of commun...</td>\n",
              "    </tr>\n",
              "  </tbody>\n",
              "</table>\n",
              "<p>7932 rows × 3 columns</p>\n",
              "</div>\n",
              "      <button class=\"colab-df-convert\" onclick=\"convertToInteractive('df-163d77e8-7b47-4b3f-83f6-a4eeff51d99c')\"\n",
              "              title=\"Convert this dataframe to an interactive table.\"\n",
              "              style=\"display:none;\">\n",
              "        \n",
              "  <svg xmlns=\"http://www.w3.org/2000/svg\" height=\"24px\"viewBox=\"0 0 24 24\"\n",
              "       width=\"24px\">\n",
              "    <path d=\"M0 0h24v24H0V0z\" fill=\"none\"/>\n",
              "    <path d=\"M18.56 5.44l.94 2.06.94-2.06 2.06-.94-2.06-.94-.94-2.06-.94 2.06-2.06.94zm-11 1L8.5 8.5l.94-2.06 2.06-.94-2.06-.94L8.5 2.5l-.94 2.06-2.06.94zm10 10l.94 2.06.94-2.06 2.06-.94-2.06-.94-.94-2.06-.94 2.06-2.06.94z\"/><path d=\"M17.41 7.96l-1.37-1.37c-.4-.4-.92-.59-1.43-.59-.52 0-1.04.2-1.43.59L10.3 9.45l-7.72 7.72c-.78.78-.78 2.05 0 2.83L4 21.41c.39.39.9.59 1.41.59.51 0 1.02-.2 1.41-.59l7.78-7.78 2.81-2.81c.8-.78.8-2.07 0-2.86zM5.41 20L4 18.59l7.72-7.72 1.47 1.35L5.41 20z\"/>\n",
              "  </svg>\n",
              "      </button>\n",
              "      \n",
              "  <style>\n",
              "    .colab-df-container {\n",
              "      display:flex;\n",
              "      flex-wrap:wrap;\n",
              "      gap: 12px;\n",
              "    }\n",
              "\n",
              "    .colab-df-convert {\n",
              "      background-color: #E8F0FE;\n",
              "      border: none;\n",
              "      border-radius: 50%;\n",
              "      cursor: pointer;\n",
              "      display: none;\n",
              "      fill: #1967D2;\n",
              "      height: 32px;\n",
              "      padding: 0 0 0 0;\n",
              "      width: 32px;\n",
              "    }\n",
              "\n",
              "    .colab-df-convert:hover {\n",
              "      background-color: #E2EBFA;\n",
              "      box-shadow: 0px 1px 2px rgba(60, 64, 67, 0.3), 0px 1px 3px 1px rgba(60, 64, 67, 0.15);\n",
              "      fill: #174EA6;\n",
              "    }\n",
              "\n",
              "    [theme=dark] .colab-df-convert {\n",
              "      background-color: #3B4455;\n",
              "      fill: #D2E3FC;\n",
              "    }\n",
              "\n",
              "    [theme=dark] .colab-df-convert:hover {\n",
              "      background-color: #434B5C;\n",
              "      box-shadow: 0px 1px 3px 1px rgba(0, 0, 0, 0.15);\n",
              "      filter: drop-shadow(0px 1px 2px rgba(0, 0, 0, 0.3));\n",
              "      fill: #FFFFFF;\n",
              "    }\n",
              "  </style>\n",
              "\n",
              "      <script>\n",
              "        const buttonEl =\n",
              "          document.querySelector('#df-163d77e8-7b47-4b3f-83f6-a4eeff51d99c button.colab-df-convert');\n",
              "        buttonEl.style.display =\n",
              "          google.colab.kernel.accessAllowed ? 'block' : 'none';\n",
              "\n",
              "        async function convertToInteractive(key) {\n",
              "          const element = document.querySelector('#df-163d77e8-7b47-4b3f-83f6-a4eeff51d99c');\n",
              "          const dataTable =\n",
              "            await google.colab.kernel.invokeFunction('convertToInteractive',\n",
              "                                                     [key], {});\n",
              "          if (!dataTable) return;\n",
              "\n",
              "          const docLinkHtml = 'Like what you see? Visit the ' +\n",
              "            '<a target=\"_blank\" href=https://colab.research.google.com/notebooks/data_table.ipynb>data table notebook</a>'\n",
              "            + ' to learn more about interactive tables.';\n",
              "          element.innerHTML = '';\n",
              "          dataTable['output_type'] = 'display_data';\n",
              "          await google.colab.output.renderOutput(dataTable, element);\n",
              "          const docLink = document.createElement('div');\n",
              "          docLink.innerHTML = docLinkHtml;\n",
              "          element.appendChild(docLink);\n",
              "        }\n",
              "      </script>\n",
              "    </div>\n",
              "  </div>\n",
              "  "
            ]
          },
          "metadata": {},
          "execution_count": 7
        }
      ],
      "source": [
        "df"
      ]
    },
    {
      "cell_type": "code",
      "execution_count": 8,
      "metadata": {
        "id": "00eIpucRSAdx"
      },
      "outputs": [],
      "source": [
        "df = df.drop(columns=['Unnamed: 0'])"
      ]
    },
    {
      "cell_type": "code",
      "execution_count": 10,
      "metadata": {
        "id": "tT-bglW-4LWS"
      },
      "outputs": [],
      "source": [
        "text = df['text'].values"
      ]
    },
    {
      "cell_type": "code",
      "execution_count": 11,
      "metadata": {
        "id": "KjrHwdgtuA1W"
      },
      "outputs": [],
      "source": [
        "def clean_text(string):\n",
        "  temp_string = re.sub('http[s]?://(?:[a-zA-Z]|[0–9]|[$-_@.&+]|(?:%[0–9a-fA-F][0–9a-fA-F]))+', '', string)\n",
        "  clean_string = re.sub(r\"[^a-zA-Z ]\", \" \", temp_string)\n",
        "  clean_string = re.sub(r\" +\", \" \", clean_string).lower()\n",
        "  return clean_string"
      ]
    },
    {
      "cell_type": "code",
      "execution_count": 12,
      "metadata": {
        "id": "Oe0fRT5JznpF"
      },
      "outputs": [],
      "source": [
        "ex = text[0]"
      ]
    },
    {
      "cell_type": "code",
      "execution_count": 13,
      "metadata": {
        "id": "rG-QLJjuzuc1"
      },
      "outputs": [],
      "source": [
        "ex_sent = nltk.sent_tokenize(ex)[10]"
      ]
    },
    {
      "cell_type": "code",
      "execution_count": 14,
      "metadata": {
        "colab": {
          "base_uri": "https://localhost:8080/",
          "height": 52
        },
        "id": "YxUFJZKoHFcg",
        "outputId": "27727288-f911-4310-cb79-544bef985036"
      },
      "outputs": [
        {
          "output_type": "execute_result",
          "data": {
            "text/plain": [
              "'Triple NRTI regimen of abacavir, tenofovir disoproxil fumarate (tenofovir DF), and either lamivudine or emtricitabine not recommended at any time because of high rate of virologic failure.'"
            ],
            "application/vnd.google.colaboratory.intrinsic+json": {
              "type": "string"
            }
          },
          "metadata": {},
          "execution_count": 14
        }
      ],
      "source": [
        "ex_sent"
      ]
    },
    {
      "cell_type": "code",
      "execution_count": 15,
      "metadata": {
        "colab": {
          "base_uri": "https://localhost:8080/",
          "height": 52
        },
        "id": "ffn7OPzx0Pk9",
        "outputId": "5c3b3500-1b7a-4645-bf32-9a606975a5d0"
      },
      "outputs": [
        {
          "output_type": "execute_result",
          "data": {
            "text/plain": [
              "'triple nrti regimen of abacavir tenofovir disoproxil fumarate tenofovir df and either lamivudine or emtricitabine not recommended at any time because of high rate of virologic failure '"
            ],
            "application/vnd.google.colaboratory.intrinsic+json": {
              "type": "string"
            }
          },
          "metadata": {},
          "execution_count": 15
        }
      ],
      "source": [
        "clean_text(ex_sent)"
      ]
    },
    {
      "cell_type": "code",
      "execution_count": 16,
      "metadata": {
        "id": "JkYLw74v6GG9"
      },
      "outputs": [],
      "source": [
        "lemmatizer = WordNetLemmatizer()"
      ]
    },
    {
      "cell_type": "code",
      "execution_count": 17,
      "metadata": {
        "colab": {
          "base_uri": "https://localhost:8080/"
        },
        "id": "ZkOu1zOR6p6B",
        "outputId": "a621a3b0-0660-4b85-a5c8-99541d75216d"
      },
      "outputs": [
        {
          "output_type": "stream",
          "name": "stderr",
          "text": [
            "[nltk_data] Downloading package stopwords to /root/nltk_data...\n",
            "[nltk_data]   Unzipping corpora/stopwords.zip.\n"
          ]
        }
      ],
      "source": [
        "nltk.download('stopwords')\n",
        "stop_words = set(stopwords.words('english'))"
      ]
    },
    {
      "cell_type": "code",
      "execution_count": 18,
      "metadata": {
        "colab": {
          "base_uri": "https://localhost:8080/"
        },
        "id": "19oozIrJ6x0p",
        "outputId": "1f2f730e-05b4-4118-ba72-611a98bf7c3c"
      },
      "outputs": [
        {
          "output_type": "stream",
          "name": "stderr",
          "text": [
            "[nltk_data] Downloading package wordnet to /root/nltk_data...\n"
          ]
        },
        {
          "output_type": "execute_result",
          "data": {
            "text/plain": [
              "True"
            ]
          },
          "metadata": {},
          "execution_count": 18
        }
      ],
      "source": [
        "nltk.download('wordnet')"
      ]
    },
    {
      "cell_type": "code",
      "execution_count": 19,
      "metadata": {
        "colab": {
          "base_uri": "https://localhost:8080/"
        },
        "id": "y93lRj4B63BQ",
        "outputId": "3bfa3e59-1a03-4b3c-c002-6169113745a3"
      },
      "outputs": [
        {
          "output_type": "stream",
          "name": "stderr",
          "text": [
            "[nltk_data] Downloading package omw-1.4 to /root/nltk_data...\n"
          ]
        },
        {
          "output_type": "execute_result",
          "data": {
            "text/plain": [
              "True"
            ]
          },
          "metadata": {},
          "execution_count": 19
        }
      ],
      "source": [
        "nltk.download('omw-1.4')"
      ]
    },
    {
      "cell_type": "code",
      "execution_count": 20,
      "metadata": {
        "id": "ZWgxXzEuu3pa"
      },
      "outputs": [],
      "source": [
        "def cleaning(content):\n",
        "  sents = []\n",
        "  for idx in tqdm(range(len(content))):\n",
        "    if content[idx] != \"\":\n",
        "      for each_sent in nltk.sent_tokenize(str(content[idx])):\n",
        "        if each_sent != \"\":\n",
        "          temp_sent = []\n",
        "          each_sent = clean_text(each_sent.lower())\n",
        "          for each_word in each_sent.split():\n",
        "            if each_word not in stop_words and len(each_word) >= 3:\n",
        "              temp_sent.append(lemmatizer.lemmatize(each_word))\n",
        "          if len(temp_sent) >= 5:\n",
        "            sents.append(temp_sent)\n",
        "  return sents"
      ]
    },
    {
      "cell_type": "code",
      "execution_count": 21,
      "metadata": {
        "colab": {
          "base_uri": "https://localhost:8080/"
        },
        "id": "RhkQQrrAukOA",
        "outputId": "c4baf4cc-6830-4346-dbc3-179d6fa7da85"
      },
      "outputs": [
        {
          "output_type": "stream",
          "name": "stderr",
          "text": [
            "100%|██████████| 7932/7932 [02:47<00:00, 47.23it/s]\n"
          ]
        }
      ],
      "source": [
        "edited_text = cleaning(text)"
      ]
    },
    {
      "cell_type": "code",
      "execution_count": 23,
      "metadata": {
        "id": "5t9i76-46gB8"
      },
      "outputs": [],
      "source": [
        "def metric(matrix: np.ndarray):\n",
        "  return np.linalg.cond(matrix)"
      ]
    },
    {
      "cell_type": "markdown",
      "source": [
        "### ***Поиск оптимальных гиперпараметров***\n",
        "\n",
        "*Попытаемся найти оптимальные гиперпараметры word2vec в зависимости от полученного числа обусловленности матрицы - чем оно меньше, тем матрцица близка к невырожденной - следовательно пространство векторов слов не избыточно (в связи с дополнительной размерностью), а значит возможны лучшие результаты для дальнейших моделей.*"
      ],
      "metadata": {
        "id": "jGHAAPvnTHdo"
      }
    },
    {
      "cell_type": "code",
      "execution_count": null,
      "metadata": {
        "id": "joKxw_3m4zSA"
      },
      "outputs": [],
      "source": [
        "def objective(trial):\n",
        "\n",
        "  vector_size = trial.suggest_categorical('vector_size', [32, 64, 128, 200, 256])\n",
        "  sg = trial.suggest_categorical('sg', [0, 1])\n",
        "  window = trial.suggest_categorical('window', [2, 3, 5, 7])\n",
        "  min_count = trial.suggest_categorical('min_count', [3, 5, 7])\n",
        "  epochs = trial.suggest_categorical('epochs', [5, 10])\n",
        "\n",
        "  model = Word2Vec(edited_text, vector_size=vector_size, workers=4, window=window,\n",
        "                 min_count=min_count, sg=sg)\n",
        "  matrix = model.wv.vectors\n",
        "  return metric(matrix)\n"
      ]
    },
    {
      "cell_type": "code",
      "execution_count": null,
      "metadata": {
        "colab": {
          "background_save": true,
          "base_uri": "https://localhost:8080/"
        },
        "id": "J801L19O62E4",
        "outputId": "ae16c2fc-059f-4bd6-8e8c-b3fec94971d2"
      },
      "outputs": [
        {
          "name": "stderr",
          "output_type": "stream",
          "text": [
            "\u001b[32m[I 2023-04-29 16:51:24,135]\u001b[0m A new study created in memory with name: Word2Vec\u001b[0m\n",
            "\u001b[32m[I 2023-04-29 16:57:06,287]\u001b[0m Trial 0 finished with value: 14.087974548339844 and parameters: {'vector_size': 256, 'sg': 1, 'window': 2, 'min_count': 7, 'epochs': 10}. Best is trial 0 with value: 14.087974548339844.\u001b[0m\n",
            "\u001b[32m[I 2023-04-29 17:01:26,382]\u001b[0m Trial 1 finished with value: 11.022778511047363 and parameters: {'vector_size': 128, 'sg': 1, 'window': 2, 'min_count': 3, 'epochs': 10}. Best is trial 1 with value: 11.022778511047363.\u001b[0m\n",
            "\u001b[32m[I 2023-04-29 17:10:53,416]\u001b[0m Trial 2 finished with value: 13.776572227478027 and parameters: {'vector_size': 256, 'sg': 1, 'window': 5, 'min_count': 7, 'epochs': 10}. Best is trial 1 with value: 11.022778511047363.\u001b[0m\n",
            "\u001b[32m[I 2023-04-29 17:14:53,635]\u001b[0m Trial 3 finished with value: 6.28141975402832 and parameters: {'vector_size': 32, 'sg': 1, 'window': 3, 'min_count': 3, 'epochs': 5}. Best is trial 3 with value: 6.28141975402832.\u001b[0m\n",
            "\u001b[32m[I 2023-04-29 17:21:05,359]\u001b[0m Trial 4 finished with value: 8.58635425567627 and parameters: {'vector_size': 64, 'sg': 1, 'window': 5, 'min_count': 7, 'epochs': 10}. Best is trial 3 with value: 6.28141975402832.\u001b[0m\n",
            "\u001b[32m[I 2023-04-29 17:23:57,551]\u001b[0m Trial 5 finished with value: 5.829658508300781 and parameters: {'vector_size': 200, 'sg': 0, 'window': 5, 'min_count': 5, 'epochs': 5}. Best is trial 5 with value: 5.829658508300781.\u001b[0m\n",
            "\u001b[32m[I 2023-04-29 17:26:51,275]\u001b[0m Trial 6 finished with value: 8.156214714050293 and parameters: {'vector_size': 256, 'sg': 0, 'window': 3, 'min_count': 3, 'epochs': 10}. Best is trial 5 with value: 5.829658508300781.\u001b[0m\n",
            "\u001b[32m[I 2023-04-29 17:29:15,313]\u001b[0m Trial 7 finished with value: 5.796854019165039 and parameters: {'vector_size': 128, 'sg': 0, 'window': 7, 'min_count': 5, 'epochs': 10}. Best is trial 7 with value: 5.796854019165039.\u001b[0m\n",
            "\u001b[32m[I 2023-04-29 17:31:18,759]\u001b[0m Trial 8 finished with value: 4.957176208496094 and parameters: {'vector_size': 128, 'sg': 0, 'window': 2, 'min_count': 5, 'epochs': 10}. Best is trial 8 with value: 4.957176208496094.\u001b[0m\n",
            "\u001b[32m[I 2023-04-29 17:33:19,890]\u001b[0m Trial 9 finished with value: 6.28262186050415 and parameters: {'vector_size': 64, 'sg': 0, 'window': 7, 'min_count': 7, 'epochs': 10}. Best is trial 8 with value: 4.957176208496094.\u001b[0m\n",
            "\u001b[32m[I 2023-04-29 17:35:23,376]\u001b[0m Trial 10 finished with value: 4.872335910797119 and parameters: {'vector_size': 128, 'sg': 0, 'window': 2, 'min_count': 5, 'epochs': 5}. Best is trial 10 with value: 4.872335910797119.\u001b[0m\n",
            "\u001b[32m[I 2023-04-29 17:37:29,603]\u001b[0m Trial 11 finished with value: 4.83342170715332 and parameters: {'vector_size': 128, 'sg': 0, 'window': 2, 'min_count': 5, 'epochs': 5}. Best is trial 11 with value: 4.83342170715332.\u001b[0m\n",
            "\u001b[32m[I 2023-04-29 17:39:32,759]\u001b[0m Trial 12 finished with value: 4.891956329345703 and parameters: {'vector_size': 128, 'sg': 0, 'window': 2, 'min_count': 5, 'epochs': 5}. Best is trial 11 with value: 4.83342170715332.\u001b[0m\n",
            "\u001b[32m[I 2023-04-29 17:41:39,685]\u001b[0m Trial 13 finished with value: 4.900838375091553 and parameters: {'vector_size': 128, 'sg': 0, 'window': 2, 'min_count': 5, 'epochs': 5}. Best is trial 11 with value: 4.83342170715332.\u001b[0m\n",
            "\u001b[32m[I 2023-04-29 17:43:18,753]\u001b[0m Trial 14 finished with value: 3.7055392265319824 and parameters: {'vector_size': 32, 'sg': 0, 'window': 2, 'min_count': 5, 'epochs': 5}. Best is trial 14 with value: 3.7055392265319824.\u001b[0m\n",
            "\u001b[32m[I 2023-04-29 17:44:58,168]\u001b[0m Trial 15 finished with value: 3.733396530151367 and parameters: {'vector_size': 32, 'sg': 0, 'window': 2, 'min_count': 5, 'epochs': 5}. Best is trial 14 with value: 3.7055392265319824.\u001b[0m\n",
            "\u001b[32m[I 2023-04-29 17:46:37,364]\u001b[0m Trial 16 finished with value: 3.79654598236084 and parameters: {'vector_size': 32, 'sg': 0, 'window': 2, 'min_count': 5, 'epochs': 5}. Best is trial 14 with value: 3.7055392265319824.\u001b[0m\n",
            "\u001b[32m[I 2023-04-29 17:48:19,288]\u001b[0m Trial 17 finished with value: 4.911255359649658 and parameters: {'vector_size': 32, 'sg': 0, 'window': 3, 'min_count': 5, 'epochs': 5}. Best is trial 14 with value: 3.7055392265319824.\u001b[0m\n",
            "\u001b[32m[I 2023-04-29 17:50:09,774]\u001b[0m Trial 18 finished with value: 5.93112325668335 and parameters: {'vector_size': 32, 'sg': 0, 'window': 7, 'min_count': 5, 'epochs': 5}. Best is trial 14 with value: 3.7055392265319824.\u001b[0m\n",
            "\u001b[32m[I 2023-04-29 17:51:45,563]\u001b[0m Trial 19 finished with value: 3.5406341552734375 and parameters: {'vector_size': 32, 'sg': 0, 'window': 2, 'min_count': 3, 'epochs': 5}. Best is trial 19 with value: 3.5406341552734375.\u001b[0m\n",
            "\u001b[32m[I 2023-04-29 17:54:23,524]\u001b[0m Trial 20 finished with value: 6.57706356048584 and parameters: {'vector_size': 200, 'sg': 0, 'window': 2, 'min_count': 3, 'epochs': 5}. Best is trial 19 with value: 3.5406341552734375.\u001b[0m\n",
            "\u001b[32m[I 2023-04-29 17:55:59,986]\u001b[0m Trial 21 finished with value: 3.530789852142334 and parameters: {'vector_size': 32, 'sg': 0, 'window': 2, 'min_count': 3, 'epochs': 5}. Best is trial 21 with value: 3.530789852142334.\u001b[0m\n",
            "\u001b[32m[I 2023-04-29 17:57:36,268]\u001b[0m Trial 22 finished with value: 3.555079936981201 and parameters: {'vector_size': 32, 'sg': 0, 'window': 2, 'min_count': 3, 'epochs': 5}. Best is trial 21 with value: 3.530789852142334.\u001b[0m\n",
            "\u001b[32m[I 2023-04-29 17:59:14,768]\u001b[0m Trial 23 finished with value: 3.523056983947754 and parameters: {'vector_size': 32, 'sg': 0, 'window': 2, 'min_count': 3, 'epochs': 5}. Best is trial 23 with value: 3.523056983947754.\u001b[0m\n",
            "\u001b[32m[I 2023-04-29 18:00:53,609]\u001b[0m Trial 24 finished with value: 3.4867677688598633 and parameters: {'vector_size': 32, 'sg': 0, 'window': 2, 'min_count': 3, 'epochs': 5}. Best is trial 24 with value: 3.4867677688598633.\u001b[0m\n",
            "\u001b[32m[I 2023-04-29 18:02:32,367]\u001b[0m Trial 25 finished with value: 3.5436606407165527 and parameters: {'vector_size': 32, 'sg': 0, 'window': 2, 'min_count': 3, 'epochs': 5}. Best is trial 24 with value: 3.4867677688598633.\u001b[0m\n",
            "\u001b[32m[I 2023-04-29 18:06:31,836]\u001b[0m Trial 26 finished with value: 6.411667823791504 and parameters: {'vector_size': 32, 'sg': 1, 'window': 3, 'min_count': 3, 'epochs': 5}. Best is trial 24 with value: 3.4867677688598633.\u001b[0m\n",
            "\u001b[32m[I 2023-04-29 18:08:22,309]\u001b[0m Trial 27 finished with value: 5.470646858215332 and parameters: {'vector_size': 32, 'sg': 0, 'window': 5, 'min_count': 3, 'epochs': 5}. Best is trial 24 with value: 3.4867677688598633.\u001b[0m\n",
            "\u001b[32m[I 2023-04-29 18:10:24,335]\u001b[0m Trial 28 finished with value: 5.47407865524292 and parameters: {'vector_size': 64, 'sg': 0, 'window': 7, 'min_count': 3, 'epochs': 5}. Best is trial 24 with value: 3.4867677688598633.\u001b[0m\n",
            "\u001b[32m[I 2023-04-29 18:15:46,359]\u001b[0m Trial 29 finished with value: 13.06811237335205 and parameters: {'vector_size': 200, 'sg': 1, 'window': 2, 'min_count': 3, 'epochs': 5}. Best is trial 24 with value: 3.4867677688598633.\u001b[0m\n",
            "\u001b[32m[I 2023-04-29 18:18:49,418]\u001b[0m Trial 30 finished with value: 9.176258087158203 and parameters: {'vector_size': 256, 'sg': 0, 'window': 2, 'min_count': 3, 'epochs': 5}. Best is trial 24 with value: 3.4867677688598633.\u001b[0m\n",
            "\u001b[32m[I 2023-04-29 18:20:37,472]\u001b[0m Trial 31 finished with value: 3.5785892009735107 and parameters: {'vector_size': 32, 'sg': 0, 'window': 2, 'min_count': 3, 'epochs': 5}. Best is trial 24 with value: 3.4867677688598633.\u001b[0m\n",
            "\u001b[32m[I 2023-04-29 18:22:18,210]\u001b[0m Trial 32 finished with value: 3.516200304031372 and parameters: {'vector_size': 32, 'sg': 0, 'window': 2, 'min_count': 3, 'epochs': 5}. Best is trial 24 with value: 3.4867677688598633.\u001b[0m\n",
            "\u001b[32m[I 2023-04-29 18:23:58,981]\u001b[0m Trial 33 finished with value: 3.528503179550171 and parameters: {'vector_size': 32, 'sg': 0, 'window': 2, 'min_count': 3, 'epochs': 5}. Best is trial 24 with value: 3.4867677688598633.\u001b[0m\n",
            "\u001b[32m[I 2023-04-29 18:27:10,216]\u001b[0m Trial 34 finished with value: 6.747795104980469 and parameters: {'vector_size': 32, 'sg': 1, 'window': 2, 'min_count': 3, 'epochs': 5}. Best is trial 24 with value: 3.4867677688598633.\u001b[0m\n",
            "\u001b[32m[I 2023-04-29 18:30:05,436]\u001b[0m Trial 35 finished with value: 6.048713684082031 and parameters: {'vector_size': 32, 'sg': 1, 'window': 2, 'min_count': 7, 'epochs': 5}. Best is trial 24 with value: 3.4867677688598633.\u001b[0m\n",
            "\u001b[32m[I 2023-04-29 18:33:02,248]\u001b[0m Trial 36 finished with value: 7.040031909942627 and parameters: {'vector_size': 256, 'sg': 0, 'window': 5, 'min_count': 3, 'epochs': 10}. Best is trial 24 with value: 3.4867677688598633.\u001b[0m\n",
            "\u001b[32m[I 2023-04-29 18:34:43,251]\u001b[0m Trial 37 finished with value: 4.705610275268555 and parameters: {'vector_size': 32, 'sg': 0, 'window': 3, 'min_count': 3, 'epochs': 5}. Best is trial 24 with value: 3.4867677688598633.\u001b[0m\n",
            "\u001b[32m[I 2023-04-29 18:43:25,721]\u001b[0m Trial 38 finished with value: 12.54101276397705 and parameters: {'vector_size': 200, 'sg': 1, 'window': 5, 'min_count': 7, 'epochs': 5}. Best is trial 24 with value: 3.4867677688598633.\u001b[0m\n",
            "\u001b[32m[I 2023-04-29 18:45:10,157]\u001b[0m Trial 39 finished with value: 3.821786403656006 and parameters: {'vector_size': 64, 'sg': 0, 'window': 2, 'min_count': 3, 'epochs': 10}. Best is trial 24 with value: 3.4867677688598633.\u001b[0m\n",
            "\u001b[32m[I 2023-04-29 18:46:58,571]\u001b[0m Trial 40 finished with value: 5.564670085906982 and parameters: {'vector_size': 32, 'sg': 0, 'window': 7, 'min_count': 3, 'epochs': 5}. Best is trial 24 with value: 3.4867677688598633.\u001b[0m\n",
            "\u001b[32m[I 2023-04-29 18:48:36,347]\u001b[0m Trial 41 finished with value: 3.5266690254211426 and parameters: {'vector_size': 32, 'sg': 0, 'window': 2, 'min_count': 3, 'epochs': 5}. Best is trial 24 with value: 3.4867677688598633.\u001b[0m\n",
            "\u001b[32m[I 2023-04-29 18:50:15,342]\u001b[0m Trial 42 finished with value: 3.5059826374053955 and parameters: {'vector_size': 32, 'sg': 0, 'window': 2, 'min_count': 3, 'epochs': 5}. Best is trial 24 with value: 3.4867677688598633.\u001b[0m\n",
            "\u001b[32m[I 2023-04-29 18:51:51,284]\u001b[0m Trial 43 finished with value: 3.5028514862060547 and parameters: {'vector_size': 32, 'sg': 0, 'window': 2, 'min_count': 3, 'epochs': 5}. Best is trial 24 with value: 3.4867677688598633.\u001b[0m\n",
            "\u001b[32m[I 2023-04-29 18:54:32,853]\u001b[0m Trial 44 finished with value: 9.459198951721191 and parameters: {'vector_size': 256, 'sg': 0, 'window': 2, 'min_count': 3, 'epochs': 10}. Best is trial 24 with value: 3.4867677688598633.\u001b[0m\n",
            "\u001b[32m[I 2023-04-29 18:56:06,674]\u001b[0m Trial 45 finished with value: 3.805771827697754 and parameters: {'vector_size': 32, 'sg': 0, 'window': 2, 'min_count': 7, 'epochs': 5}. Best is trial 24 with value: 3.4867677688598633.\u001b[0m\n",
            "\u001b[32m[I 2023-04-29 18:57:41,747]\u001b[0m Trial 46 finished with value: 3.603773593902588 and parameters: {'vector_size': 32, 'sg': 0, 'window': 2, 'min_count': 3, 'epochs': 5}. Best is trial 24 with value: 3.4867677688598633.\u001b[0m\n",
            "\u001b[32m[I 2023-04-29 18:59:30,550]\u001b[0m Trial 47 finished with value: 4.769190311431885 and parameters: {'vector_size': 64, 'sg': 0, 'window': 3, 'min_count': 3, 'epochs': 5}. Best is trial 24 with value: 3.4867677688598633.\u001b[0m\n",
            "\u001b[32m[I 2023-04-29 19:01:06,757]\u001b[0m Trial 48 finished with value: 3.488624095916748 and parameters: {'vector_size': 32, 'sg': 0, 'window': 2, 'min_count': 3, 'epochs': 10}. Best is trial 24 with value: 3.4867677688598633.\u001b[0m\n",
            "\u001b[32m[I 2023-04-29 19:06:15,692]\u001b[0m Trial 49 finished with value: 5.743974208831787 and parameters: {'vector_size': 32, 'sg': 1, 'window': 5, 'min_count': 3, 'epochs': 10}. Best is trial 24 with value: 3.4867677688598633.\u001b[0m\n"
          ]
        }
      ],
      "source": [
        "direction = 'minimize'\n",
        "name = 'Word2Vec'\n",
        "study = optuna.create_study(direction=direction,study_name=name)\n",
        "study.optimize(objective, n_trials=50)"
      ]
    },
    {
      "cell_type": "code",
      "source": [
        "# лучшие гиперпараметры\n",
        "model = Word2Vec(edited_text, vector_size=32, workers=4, window=2,\n",
        "                 min_count=3, sg=0)"
      ],
      "metadata": {
        "id": "W11MUXk4NATN"
      },
      "execution_count": 24,
      "outputs": []
    },
    {
      "cell_type": "code",
      "source": [
        "model2 = Word2Vec(edited_text, vector_size=200, workers=4, window=5,\n",
        "                 min_count=5, sg=1)"
      ],
      "metadata": {
        "id": "bx_8K887NUDg"
      },
      "execution_count": 25,
      "outputs": []
    },
    {
      "cell_type": "code",
      "source": [
        "model3 = Word2Vec(edited_text, vector_size=50, workers=4, window=2,\n",
        "                 min_count=3, sg=0)"
      ],
      "metadata": {
        "id": "uHbs3tHgQhM8"
      },
      "execution_count": 31,
      "outputs": []
    },
    {
      "cell_type": "code",
      "source": [
        "metric(model.wv.vectors)"
      ],
      "metadata": {
        "colab": {
          "base_uri": "https://localhost:8080/"
        },
        "id": "IB6sB8ZBNqXE",
        "outputId": "368c7eca-9571-4c82-ba61-10e64c46e22c"
      },
      "execution_count": 26,
      "outputs": [
        {
          "output_type": "execute_result",
          "data": {
            "text/plain": [
              "3.5460174"
            ]
          },
          "metadata": {},
          "execution_count": 26
        }
      ]
    },
    {
      "cell_type": "code",
      "source": [
        "metric(model2.wv.vectors)"
      ],
      "metadata": {
        "colab": {
          "base_uri": "https://localhost:8080/"
        },
        "id": "rn6gCDoFOVLB",
        "outputId": "735692dd-5605-491f-fb20-f74ba36a3f1c"
      },
      "execution_count": 27,
      "outputs": [
        {
          "output_type": "execute_result",
          "data": {
            "text/plain": [
              "12.637819"
            ]
          },
          "metadata": {},
          "execution_count": 27
        }
      ]
    },
    {
      "cell_type": "code",
      "source": [
        "metric(model3.wv.vectors)"
      ],
      "metadata": {
        "colab": {
          "base_uri": "https://localhost:8080/"
        },
        "id": "ODTHp94XQsjZ",
        "outputId": "7d3e51a9-fb5a-47f2-ca15-14abff5b73f4"
      },
      "execution_count": 32,
      "outputs": [
        {
          "output_type": "execute_result",
          "data": {
            "text/plain": [
              "3.7358868"
            ]
          },
          "metadata": {},
          "execution_count": 32
        }
      ]
    },
    {
      "cell_type": "code",
      "source": [
        "# желаемый путь\n",
        "path = \"/models/word2vec.model\""
      ],
      "metadata": {
        "id": "Vp-DK0snU0dd"
      },
      "execution_count": 44,
      "outputs": []
    },
    {
      "cell_type": "code",
      "execution_count": 45,
      "metadata": {
        "id": "bmZbtd418kn1"
      },
      "outputs": [],
      "source": [
        "model.save(path)"
      ]
    },
    {
      "cell_type": "code",
      "execution_count": 46,
      "metadata": {
        "id": "jSUwt0F5Bd8A"
      },
      "outputs": [],
      "source": [
        "# файлы для просмотра пространства эмбеддингов в tensorboard\n",
        "with open(\"tensorsfp.tsv\", 'w+') as tensors:\n",
        "    with open( \"metadatafp.tsv\", 'w+') as metadata:\n",
        "          row  = '\\t'.join([\"word\", \"count\"])\n",
        "          metadata.write(row + '\\n')\n",
        "          for word, ind in model.wv.key_to_index.items():\n",
        "            row = word + '\\t' + str(ind)\n",
        "            metadata.write(row + '\\n')\n",
        "            vector_row = '\\t'.join(map(str, model.wv[word]))\n",
        "            tensors.write(vector_row + '\\n')\n",
        "\n",
        "            if ind == 9999:\n",
        "              break"
      ]
    }
  ],
  "metadata": {
    "accelerator": "GPU",
    "colab": {
      "provenance": []
    },
    "gpuClass": "standard",
    "kernelspec": {
      "display_name": "Python 3",
      "name": "python3"
    },
    "language_info": {
      "name": "python"
    }
  },
  "nbformat": 4,
  "nbformat_minor": 0
}