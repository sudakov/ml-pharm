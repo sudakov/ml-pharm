


import csv
import re


import pandas as pd
import numpy as np
import matplotlib.pyplot as plt


import networkx as nx


from tqdm import tqdm


import io
import os
import numpy as np
import matplotlib.pyplot as plt


import tensorflow as tf
from tensorflow.keras import layers
from tensorflow.keras.datasets import mnist


from tensorboard.plugins import projector





data_folder = '.'





structures_data_embedded = pd.read_csv(f'{data_folder}/structures_data_embedded.csv')
structures_data_embedded = structures_data_embedded.dropna()
structures_data_embedded.head()





# Функция для преобразования строки с разделителями пробелами и символами новой строки в список вещественных чисел
def str_to_float_list(s):
    # Заменяем символы новой строки на пробелы и удаляем скобки на концах
    clean_str = re.sub(r'[\n\s\t]+', ' ', s[1:-1])
    return np.fromstring(clean_str, sep=' ')


intermediate_output = np.array([str_to_float_list(s) for s in structures_data_embedded.embeddings])





log_dir = 'logs/projector'
if not os.path.exists(log_dir):
    os.makedirs(log_dir)

with open(os.path.join(log_dir, 'metadata.tsv'), 'w') as f:
    for idx, row in structures_data_embedded.iterrows():
        f.write(f"{row['name']}\n")


feature_vectors = tf.Variable(intermediate_output)
checkpoint = tf.train.Checkpoint(embedding=feature_vectors)
checkpoint.save(os.path.join(log_dir, "embedding.ckpt"))

config = projector.ProjectorConfig()
embedding = config.embeddings.add()
embedding.tensor_name = "embedding/.ATTRIBUTES/VARIABLE_VALUE"
embedding.metadata_path = 'metadata.tsv'
projector.visualize_embeddings(log_dir, config)


%load_ext tensorboard


%tensorboard --logdir logs/projector --host localhost












