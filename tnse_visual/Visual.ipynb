{
 "cells": [
  {
   "cell_type": "markdown",
   "id": "54ff2d09",
   "metadata": {},
   "source": [
    "# импорты"
   ]
  },
  {
   "cell_type": "code",
   "execution_count": 1,
   "id": "76e1443b",
   "metadata": {},
   "outputs": [],
   "source": [
    "import csv\n",
    "import re"
   ]
  },
  {
   "cell_type": "code",
   "execution_count": 2,
   "id": "84db529f",
   "metadata": {},
   "outputs": [],
   "source": [
    "import pandas as pd\n",
    "import numpy as np\n",
    "import matplotlib.pyplot as plt"
   ]
  },
  {
   "cell_type": "code",
   "execution_count": 3,
   "id": "183390da",
   "metadata": {},
   "outputs": [],
   "source": [
    "import networkx as nx"
   ]
  },
  {
   "cell_type": "code",
   "execution_count": 4,
   "id": "f081ee28",
   "metadata": {},
   "outputs": [],
   "source": [
    "from tqdm import tqdm"
   ]
  },
  {
   "cell_type": "code",
   "execution_count": 5,
   "id": "503c1124",
   "metadata": {},
   "outputs": [],
   "source": [
    "import io\n",
    "import os\n",
    "import numpy as np\n",
    "import matplotlib.pyplot as plt"
   ]
  },
  {
   "cell_type": "code",
   "execution_count": 6,
   "id": "50ed6e71",
   "metadata": {},
   "outputs": [],
   "source": [
    "import tensorflow as tf\n",
    "from tensorflow.keras import layers\n",
    "from tensorflow.keras.datasets import mnist"
   ]
  },
  {
   "cell_type": "code",
   "execution_count": 7,
   "id": "76363359",
   "metadata": {},
   "outputs": [],
   "source": [
    "from tensorboard.plugins import projector"
   ]
  },
  {
   "cell_type": "markdown",
   "id": "01deaec9",
   "metadata": {},
   "source": [
    "# константы"
   ]
  },
  {
   "cell_type": "code",
   "execution_count": 8,
   "id": "45269ac7",
   "metadata": {},
   "outputs": [],
   "source": [
    "data_folder = '.'"
   ]
  },
  {
   "cell_type": "markdown",
   "id": "2ce6a643",
   "metadata": {},
   "source": [
    "# загрузка данных"
   ]
  },
  {
   "cell_type": "code",
   "execution_count": 9,
   "id": "3b4243ef",
   "metadata": {},
   "outputs": [
    {
     "data": {
      "text/html": [
       "<div>\n",
       "<style scoped>\n",
       "    .dataframe tbody tr th:only-of-type {\n",
       "        vertical-align: middle;\n",
       "    }\n",
       "\n",
       "    .dataframe tbody tr th {\n",
       "        vertical-align: top;\n",
       "    }\n",
       "\n",
       "    .dataframe thead th {\n",
       "        text-align: right;\n",
       "    }\n",
       "</style>\n",
       "<table border=\"1\" class=\"dataframe\">\n",
       "  <thead>\n",
       "    <tr style=\"text-align: right;\">\n",
       "      <th></th>\n",
       "      <th>id</th>\n",
       "      <th>name</th>\n",
       "      <th>mrdef</th>\n",
       "      <th>embeddings</th>\n",
       "    </tr>\n",
       "  </thead>\n",
       "  <tbody>\n",
       "    <tr>\n",
       "      <th>0</th>\n",
       "      <td>5392</td>\n",
       "      <td>capmatinib</td>\n",
       "      <td>Capmatinib is a kinase inhibitor indicated for...</td>\n",
       "      <td>[-0.3585707   0.6105027  -0.03888055  0.527587...</td>\n",
       "    </tr>\n",
       "    <tr>\n",
       "      <th>1</th>\n",
       "      <td>5393</td>\n",
       "      <td>selpercatinib</td>\n",
       "      <td>Selpercatinib is a kinase inhibitor. Selpercat...</td>\n",
       "      <td>[-0.351399    0.5350093  -0.06064523  0.446621...</td>\n",
       "    </tr>\n",
       "    <tr>\n",
       "      <th>2</th>\n",
       "      <td>5394</td>\n",
       "      <td>ripretinib</td>\n",
       "      <td>Ripretinib is a tyrosine kinase inhibitor that...</td>\n",
       "      <td>[-0.37962225  0.6491094  -0.04126282  0.557478...</td>\n",
       "    </tr>\n",
       "    <tr>\n",
       "      <th>3</th>\n",
       "      <td>5377</td>\n",
       "      <td>molnupiravir</td>\n",
       "      <td>EIDD-1931 has broad spectrum antiviral activit...</td>\n",
       "      <td>[-0.37407592  0.60611284 -0.04967265  0.512396...</td>\n",
       "    </tr>\n",
       "    <tr>\n",
       "      <th>4</th>\n",
       "      <td>5395</td>\n",
       "      <td>fluoroestradiol F 18</td>\n",
       "      <td>Fluoroestradiol F 18 binds ER and it is a radi...</td>\n",
       "      <td>[-0.35038048  0.5291053  -0.06157967  0.444059...</td>\n",
       "    </tr>\n",
       "    <tr>\n",
       "      <th>...</th>\n",
       "      <td>...</td>\n",
       "      <td>...</td>\n",
       "      <td>...</td>\n",
       "      <td>...</td>\n",
       "    </tr>\n",
       "    <tr>\n",
       "      <th>3183</th>\n",
       "      <td>5224</td>\n",
       "      <td>dupilumab</td>\n",
       "      <td>Dupilumab is a human monoclonal IgG4 antibody ...</td>\n",
       "      <td>[-0.3977162   0.591896   -0.06846568  0.507152...</td>\n",
       "    </tr>\n",
       "    <tr>\n",
       "      <th>3184</th>\n",
       "      <td>5109</td>\n",
       "      <td>urokinase</td>\n",
       "      <td>A proteolytic enzyme that converts PLASMINOGEN...</td>\n",
       "      <td>[-0.39410973  0.6405348  -0.0437251   0.549032...</td>\n",
       "    </tr>\n",
       "    <tr>\n",
       "      <th>3185</th>\n",
       "      <td>5433</td>\n",
       "      <td>ansuvimab</td>\n",
       "      <td>EBANGA (ansuvimab-zykl) is a Zaire ebolavirus ...</td>\n",
       "      <td>[-0.40826026  0.6270546  -0.07548815  0.528967...</td>\n",
       "    </tr>\n",
       "    <tr>\n",
       "      <th>3186</th>\n",
       "      <td>5434</td>\n",
       "      <td>margetuximab</td>\n",
       "      <td>Margetuximab-cmkb, a HER2/neu receptor antagon...</td>\n",
       "      <td>[-0.39354396  0.5811391  -0.08454745  0.486416...</td>\n",
       "    </tr>\n",
       "    <tr>\n",
       "      <th>3187</th>\n",
       "      <td>5435</td>\n",
       "      <td>naxitamab</td>\n",
       "      <td>Naxitamab-gqgk is a glycolipid disialoganglios...</td>\n",
       "      <td>[-4.1127163e-01  6.2809372e-01 -7.4860118e-02 ...</td>\n",
       "    </tr>\n",
       "  </tbody>\n",
       "</table>\n",
       "<p>3188 rows × 4 columns</p>\n",
       "</div>"
      ],
      "text/plain": [
       "        id                  name  \\\n",
       "0     5392            capmatinib   \n",
       "1     5393         selpercatinib   \n",
       "2     5394            ripretinib   \n",
       "3     5377          molnupiravir   \n",
       "4     5395  fluoroestradiol F 18   \n",
       "...    ...                   ...   \n",
       "3183  5224             dupilumab   \n",
       "3184  5109             urokinase   \n",
       "3185  5433             ansuvimab   \n",
       "3186  5434          margetuximab   \n",
       "3187  5435             naxitamab   \n",
       "\n",
       "                                                  mrdef  \\\n",
       "0     Capmatinib is a kinase inhibitor indicated for...   \n",
       "1     Selpercatinib is a kinase inhibitor. Selpercat...   \n",
       "2     Ripretinib is a tyrosine kinase inhibitor that...   \n",
       "3     EIDD-1931 has broad spectrum antiviral activit...   \n",
       "4     Fluoroestradiol F 18 binds ER and it is a radi...   \n",
       "...                                                 ...   \n",
       "3183  Dupilumab is a human monoclonal IgG4 antibody ...   \n",
       "3184  A proteolytic enzyme that converts PLASMINOGEN...   \n",
       "3185  EBANGA (ansuvimab-zykl) is a Zaire ebolavirus ...   \n",
       "3186  Margetuximab-cmkb, a HER2/neu receptor antagon...   \n",
       "3187  Naxitamab-gqgk is a glycolipid disialoganglios...   \n",
       "\n",
       "                                             embeddings  \n",
       "0     [-0.3585707   0.6105027  -0.03888055  0.527587...  \n",
       "1     [-0.351399    0.5350093  -0.06064523  0.446621...  \n",
       "2     [-0.37962225  0.6491094  -0.04126282  0.557478...  \n",
       "3     [-0.37407592  0.60611284 -0.04967265  0.512396...  \n",
       "4     [-0.35038048  0.5291053  -0.06157967  0.444059...  \n",
       "...                                                 ...  \n",
       "3183  [-0.3977162   0.591896   -0.06846568  0.507152...  \n",
       "3184  [-0.39410973  0.6405348  -0.0437251   0.549032...  \n",
       "3185  [-0.40826026  0.6270546  -0.07548815  0.528967...  \n",
       "3186  [-0.39354396  0.5811391  -0.08454745  0.486416...  \n",
       "3187  [-4.1127163e-01  6.2809372e-01 -7.4860118e-02 ...  \n",
       "\n",
       "[3188 rows x 4 columns]"
      ]
     },
     "execution_count": 9,
     "metadata": {},
     "output_type": "execute_result"
    }
   ],
   "source": [
    "structures_data_embedded = pd.read_csv(f'{data_folder}/structures_data_embedded.csv')\n",
    "structures_data_embedded = structures_data_embedded.dropna()\n",
    "structures_data_embedded"
   ]
  },
  {
   "cell_type": "markdown",
   "id": "24677bb7",
   "metadata": {},
   "source": [
    "# готовим данные"
   ]
  },
  {
   "cell_type": "code",
   "execution_count": 10,
   "id": "7e5e7809",
   "metadata": {},
   "outputs": [],
   "source": [
    "# Функция для преобразования строки с разделителями пробелами и символами новой строки в список вещественных чисел\n",
    "def str_to_float_list(s):\n",
    "    # Заменяем символы новой строки на пробелы и удаляем скобки на концах\n",
    "    clean_str = re.sub(r'[\\n\\s\\t]+', ' ', s[1:-1])\n",
    "    return np.fromstring(clean_str, sep=' ')"
   ]
  },
  {
   "cell_type": "code",
   "execution_count": 11,
   "id": "d5dd64d9",
   "metadata": {},
   "outputs": [],
   "source": [
    "intermediate_output = np.array([str_to_float_list(s) for s in structures_data_embedded.embeddings])"
   ]
  },
  {
   "cell_type": "markdown",
   "id": "1093da96",
   "metadata": {},
   "source": [
    "# рисуем интерактивную штуку"
   ]
  },
  {
   "cell_type": "code",
   "execution_count": 12,
   "id": "c313ab4a",
   "metadata": {},
   "outputs": [],
   "source": [
    "log_dir = './logs/mytensor/'\n",
    "if not os.path.exists(log_dir):\n",
    "    os.makedirs(log_dir)\n",
    "\n",
    "with open(os.path.join(log_dir, 'metadata.tsv'), 'w') as f:\n",
    "    for idx, row in structures_data_embedded.iterrows():\n",
    "        f.write(f\"{row['name']}\\n\")"
   ]
  },
  {
   "cell_type": "code",
   "execution_count": 13,
   "id": "63c80c80-b253-41ae-9e43-5a9a80e4429e",
   "metadata": {},
   "outputs": [],
   "source": [
    "np.savetxt(\"./logs/mytensor/data.tsv\", intermediate_output,  \n",
    "              delimiter = \"\\t\")"
   ]
  },
  {
   "cell_type": "code",
   "execution_count": 14,
   "id": "07a2e850",
   "metadata": {},
   "outputs": [],
   "source": [
    "feature_vectors = tf.Variable(intermediate_output)\n",
    "checkpoint = tf.train.Checkpoint(embedding=feature_vectors)\n",
    "checkpoint.save(os.path.join(log_dir, \"embedding.ckpt\"))\n",
    "\n",
    "config = projector.ProjectorConfig()\n",
    "embedding = config.embeddings.add()\n",
    "embedding.tensor_name = \"embedding/.ATTRIBUTES/VARIABLE_VALUE\"\n",
    "embedding.metadata_path = 'metadata.tsv'\n",
    "embedding.tensor_path = 'data.tsv'\n",
    "projector.visualize_embeddings(log_dir, config)"
   ]
  },
  {
   "cell_type": "code",
   "execution_count": 15,
   "id": "e7fe5a41",
   "metadata": {},
   "outputs": [],
   "source": [
    "%load_ext tensorboard"
   ]
  },
  {
   "cell_type": "code",
   "execution_count": 16,
   "id": "e1ad8bfd",
   "metadata": {},
   "outputs": [
    {
     "data": {
      "text/html": [
       "\n",
       "      <iframe id=\"tensorboard-frame-64f8e17bf82e8baf\" width=\"100%\" height=\"800\" frameborder=\"0\">\n",
       "      </iframe>\n",
       "      <script>\n",
       "        (function() {\n",
       "          const frame = document.getElementById(\"tensorboard-frame-64f8e17bf82e8baf\");\n",
       "          const url = new URL(\"/\", window.location);\n",
       "          const port = 6006;\n",
       "          if (port) {\n",
       "            url.port = port;\n",
       "          }\n",
       "          frame.src = url;\n",
       "        })();\n",
       "      </script>\n",
       "    "
      ],
      "text/plain": [
       "<IPython.core.display.HTML object>"
      ]
     },
     "metadata": {},
     "output_type": "display_data"
    }
   ],
   "source": [
    "%tensorboard --logdir ./logs/mytensor"
   ]
  },
  {
   "cell_type": "code",
   "execution_count": null,
   "id": "8efffcc9",
   "metadata": {},
   "outputs": [],
   "source": []
  },
  {
   "cell_type": "code",
   "execution_count": null,
   "id": "c2aa3e0a",
   "metadata": {},
   "outputs": [],
   "source": []
  },
  {
   "cell_type": "code",
   "execution_count": null,
   "id": "0015fcd8",
   "metadata": {},
   "outputs": [],
   "source": []
  },
  {
   "cell_type": "code",
   "execution_count": null,
   "id": "7f1ef24c",
   "metadata": {},
   "outputs": [],
   "source": []
  }
 ],
 "metadata": {
  "kernelspec": {
   "display_name": "Python 3 (ipykernel)",
   "language": "python",
   "name": "python3"
  },
  "language_info": {
   "codemirror_mode": {
    "name": "ipython",
    "version": 3
   },
   "file_extension": ".py",
   "mimetype": "text/x-python",
   "name": "python",
   "nbconvert_exporter": "python",
   "pygments_lexer": "ipython3",
   "version": "3.10.9"
  }
 },
 "nbformat": 4,
 "nbformat_minor": 5
}
